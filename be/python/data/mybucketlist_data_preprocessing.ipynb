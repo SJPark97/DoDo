{
 "cells": [
  {
   "cell_type": "code",
   "execution_count": 49,
   "id": "6dc0e3e7",
   "metadata": {},
   "outputs": [
    {
     "data": {
      "text/html": [
       "<div>\n",
       "<style scoped>\n",
       "    .dataframe tbody tr th:only-of-type {\n",
       "        vertical-align: middle;\n",
       "    }\n",
       "\n",
       "    .dataframe tbody tr th {\n",
       "        vertical-align: top;\n",
       "    }\n",
       "\n",
       "    .dataframe thead th {\n",
       "        text-align: right;\n",
       "    }\n",
       "</style>\n",
       "<table border=\"1\" class=\"dataframe\">\n",
       "  <thead>\n",
       "    <tr style=\"text-align: right;\">\n",
       "      <th></th>\n",
       "      <th>title</th>\n",
       "      <th>category</th>\n",
       "    </tr>\n",
       "  </thead>\n",
       "  <tbody>\n",
       "    <tr>\n",
       "      <th>0</th>\n",
       "      <td>러시아의 북극해 소도시, 'Teriberka'에서 오로라 관측하기</td>\n",
       "      <td>대자연</td>\n",
       "    </tr>\n",
       "    <tr>\n",
       "      <th>1</th>\n",
       "      <td>지구의 모래 지평선, '사하라 사막'에서 별 사진 찍기</td>\n",
       "      <td>대자연</td>\n",
       "    </tr>\n",
       "    <tr>\n",
       "      <th>2</th>\n",
       "      <td>알프스 산맥 고속 열차, 'Glacier Express'에서 스위스 풍경 감상하기</td>\n",
       "      <td>대자연</td>\n",
       "    </tr>\n",
       "    <tr>\n",
       "      <th>3</th>\n",
       "      <td>알프스산맥의 상징, '마터호른' 감상하기</td>\n",
       "      <td>대자연</td>\n",
       "    </tr>\n",
       "    <tr>\n",
       "      <th>4</th>\n",
       "      <td>원주민 마을의 자연 절경, '하바슈 폭포' 감상하기</td>\n",
       "      <td>대자연</td>\n",
       "    </tr>\n",
       "  </tbody>\n",
       "</table>\n",
       "</div>"
      ],
      "text/plain": [
       "                                           title category\n",
       "0           러시아의 북극해 소도시, 'Teriberka'에서 오로라 관측하기      대자연\n",
       "1                 지구의 모래 지평선, '사하라 사막'에서 별 사진 찍기      대자연\n",
       "2  알프스 산맥 고속 열차, 'Glacier Express'에서 스위스 풍경 감상하기      대자연\n",
       "3                         알프스산맥의 상징, '마터호른' 감상하기      대자연\n",
       "4                   원주민 마을의 자연 절경, '하바슈 폭포' 감상하기      대자연"
      ]
     },
     "execution_count": 49,
     "metadata": {},
     "output_type": "execute_result"
    }
   ],
   "source": [
    "import pandas as pd\n",
    "df = pd.read_csv('mybucketlist_all2.csv', encoding='CP949')\n",
    "df.head()"
   ]
  },
  {
   "cell_type": "code",
   "execution_count": 50,
   "id": "9843061f",
   "metadata": {},
   "outputs": [
    {
     "name": "stdout",
     "output_type": "stream",
     "text": [
      "<class 'pandas.core.frame.DataFrame'>\n",
      "RangeIndex: 18603 entries, 0 to 18602\n",
      "Data columns (total 2 columns):\n",
      " #   Column    Non-Null Count  Dtype \n",
      "---  ------    --------------  ----- \n",
      " 0   title     18603 non-null  object\n",
      " 1   category  18603 non-null  object\n",
      "dtypes: object(2)\n",
      "memory usage: 290.8+ KB\n"
     ]
    }
   ],
   "source": [
    "df.info()"
   ]
  },
  {
   "cell_type": "code",
   "execution_count": 51,
   "id": "31ce2184",
   "metadata": {},
   "outputs": [
    {
     "data": {
      "text/html": [
       "<div>\n",
       "<style scoped>\n",
       "    .dataframe tbody tr th:only-of-type {\n",
       "        vertical-align: middle;\n",
       "    }\n",
       "\n",
       "    .dataframe tbody tr th {\n",
       "        vertical-align: top;\n",
       "    }\n",
       "\n",
       "    .dataframe thead th {\n",
       "        text-align: right;\n",
       "    }\n",
       "</style>\n",
       "<table border=\"1\" class=\"dataframe\">\n",
       "  <thead>\n",
       "    <tr style=\"text-align: right;\">\n",
       "      <th></th>\n",
       "      <th>title</th>\n",
       "      <th>category</th>\n",
       "    </tr>\n",
       "  </thead>\n",
       "  <tbody>\n",
       "    <tr>\n",
       "      <th>count</th>\n",
       "      <td>18603</td>\n",
       "      <td>18603</td>\n",
       "    </tr>\n",
       "    <tr>\n",
       "      <th>unique</th>\n",
       "      <td>9436</td>\n",
       "      <td>9</td>\n",
       "    </tr>\n",
       "    <tr>\n",
       "      <th>top</th>\n",
       "      <td>지갑 속 돈의 이야기를 들을 수 있는 한국은행 화폐박물관 가보기</td>\n",
       "      <td>여행</td>\n",
       "    </tr>\n",
       "    <tr>\n",
       "      <th>freq</th>\n",
       "      <td>4</td>\n",
       "      <td>6025</td>\n",
       "    </tr>\n",
       "  </tbody>\n",
       "</table>\n",
       "</div>"
      ],
      "text/plain": [
       "                                      title category\n",
       "count                                 18603    18603\n",
       "unique                                 9436        9\n",
       "top     지갑 속 돈의 이야기를 들을 수 있는 한국은행 화폐박물관 가보기       여행\n",
       "freq                                      4     6025"
      ]
     },
     "execution_count": 51,
     "metadata": {},
     "output_type": "execute_result"
    }
   ],
   "source": [
    "df.describe()"
   ]
  },
  {
   "cell_type": "code",
   "execution_count": 52,
   "id": "5fce513b",
   "metadata": {},
   "outputs": [],
   "source": [
    "df = df.drop_duplicates()"
   ]
  },
  {
   "cell_type": "code",
   "execution_count": 53,
   "id": "b77524e8",
   "metadata": {},
   "outputs": [],
   "source": [
    "df = df.reset_index(drop=True)"
   ]
  },
  {
   "cell_type": "code",
   "execution_count": 54,
   "id": "cca6b1fd",
   "metadata": {},
   "outputs": [
    {
     "name": "stdout",
     "output_type": "stream",
     "text": [
      "<class 'pandas.core.frame.DataFrame'>\n",
      "RangeIndex: 9437 entries, 0 to 9436\n",
      "Data columns (total 2 columns):\n",
      " #   Column    Non-Null Count  Dtype \n",
      "---  ------    --------------  ----- \n",
      " 0   title     9437 non-null   object\n",
      " 1   category  9437 non-null   object\n",
      "dtypes: object(2)\n",
      "memory usage: 147.6+ KB\n"
     ]
    }
   ],
   "source": [
    "df.info()"
   ]
  },
  {
   "cell_type": "code",
   "execution_count": 56,
   "id": "68256ee7",
   "metadata": {},
   "outputs": [],
   "source": [
    "df.to_csv('mybucketlist_drop_duplicate.csv', encoding='cp949', index=False)"
   ]
  },
  {
   "cell_type": "code",
   "execution_count": 60,
   "id": "371b1d1e",
   "metadata": {},
   "outputs": [
    {
     "data": {
      "text/html": [
       "<div>\n",
       "<style scoped>\n",
       "    .dataframe tbody tr th:only-of-type {\n",
       "        vertical-align: middle;\n",
       "    }\n",
       "\n",
       "    .dataframe tbody tr th {\n",
       "        vertical-align: top;\n",
       "    }\n",
       "\n",
       "    .dataframe thead th {\n",
       "        text-align: right;\n",
       "    }\n",
       "</style>\n",
       "<table border=\"1\" class=\"dataframe\">\n",
       "  <thead>\n",
       "    <tr style=\"text-align: right;\">\n",
       "      <th></th>\n",
       "      <th>title</th>\n",
       "      <th>category</th>\n",
       "    </tr>\n",
       "  </thead>\n",
       "  <tbody>\n",
       "    <tr>\n",
       "      <th>0</th>\n",
       "      <td>러시아의 북극해 소도시, 'Teriberka'에서 오로라 관측하기</td>\n",
       "      <td>대자연</td>\n",
       "    </tr>\n",
       "    <tr>\n",
       "      <th>1</th>\n",
       "      <td>지구의 모래 지평선, '사하라 사막'에서 별 사진 찍기</td>\n",
       "      <td>대자연</td>\n",
       "    </tr>\n",
       "    <tr>\n",
       "      <th>2</th>\n",
       "      <td>알프스 산맥 고속 열차, 'Glacier Express'에서 스위스 풍경 감상하기</td>\n",
       "      <td>대자연</td>\n",
       "    </tr>\n",
       "    <tr>\n",
       "      <th>3</th>\n",
       "      <td>알프스산맥의 상징, '마터호른' 감상하기</td>\n",
       "      <td>대자연</td>\n",
       "    </tr>\n",
       "    <tr>\n",
       "      <th>4</th>\n",
       "      <td>원주민 마을의 자연 절경, '하바슈 폭포' 감상하기</td>\n",
       "      <td>대자연</td>\n",
       "    </tr>\n",
       "  </tbody>\n",
       "</table>\n",
       "</div>"
      ],
      "text/plain": [
       "                                           title category\n",
       "0           러시아의 북극해 소도시, 'Teriberka'에서 오로라 관측하기      대자연\n",
       "1                 지구의 모래 지평선, '사하라 사막'에서 별 사진 찍기      대자연\n",
       "2  알프스 산맥 고속 열차, 'Glacier Express'에서 스위스 풍경 감상하기      대자연\n",
       "3                         알프스산맥의 상징, '마터호른' 감상하기      대자연\n",
       "4                   원주민 마을의 자연 절경, '하바슈 폭포' 감상하기      대자연"
      ]
     },
     "execution_count": 60,
     "metadata": {},
     "output_type": "execute_result"
    }
   ],
   "source": [
    "new_df = pd.read_csv('mybucketlist_drop_duplicate.csv', encoding='utf-8')\n",
    "new_df.head()"
   ]
  },
  {
   "cell_type": "code",
   "execution_count": 61,
   "id": "6f110076",
   "metadata": {},
   "outputs": [
    {
     "name": "stdout",
     "output_type": "stream",
     "text": [
      "<class 'pandas.core.frame.DataFrame'>\n",
      "RangeIndex: 9437 entries, 0 to 9436\n",
      "Data columns (total 2 columns):\n",
      " #   Column    Non-Null Count  Dtype \n",
      "---  ------    --------------  ----- \n",
      " 0   title     9437 non-null   object\n",
      " 1   category  9437 non-null   object\n",
      "dtypes: object(2)\n",
      "memory usage: 147.6+ KB\n"
     ]
    }
   ],
   "source": [
    "new_df.info()"
   ]
  },
  {
   "cell_type": "code",
   "execution_count": 62,
   "id": "faf33044",
   "metadata": {},
   "outputs": [
    {
     "data": {
      "text/html": [
       "<div>\n",
       "<style scoped>\n",
       "    .dataframe tbody tr th:only-of-type {\n",
       "        vertical-align: middle;\n",
       "    }\n",
       "\n",
       "    .dataframe tbody tr th {\n",
       "        vertical-align: top;\n",
       "    }\n",
       "\n",
       "    .dataframe thead th {\n",
       "        text-align: right;\n",
       "    }\n",
       "</style>\n",
       "<table border=\"1\" class=\"dataframe\">\n",
       "  <thead>\n",
       "    <tr style=\"text-align: right;\">\n",
       "      <th></th>\n",
       "      <th>title</th>\n",
       "      <th>category</th>\n",
       "    </tr>\n",
       "  </thead>\n",
       "  <tbody>\n",
       "    <tr>\n",
       "      <th>count</th>\n",
       "      <td>9437</td>\n",
       "      <td>9437</td>\n",
       "    </tr>\n",
       "    <tr>\n",
       "      <th>unique</th>\n",
       "      <td>9436</td>\n",
       "      <td>9</td>\n",
       "    </tr>\n",
       "    <tr>\n",
       "      <th>top</th>\n",
       "      <td>지갑 속 돈의 이야기를 들을 수 있는 한국은행 화폐박물관 가보기</td>\n",
       "      <td>여행</td>\n",
       "    </tr>\n",
       "    <tr>\n",
       "      <th>freq</th>\n",
       "      <td>2</td>\n",
       "      <td>3020</td>\n",
       "    </tr>\n",
       "  </tbody>\n",
       "</table>\n",
       "</div>"
      ],
      "text/plain": [
       "                                      title category\n",
       "count                                  9437     9437\n",
       "unique                                 9436        9\n",
       "top     지갑 속 돈의 이야기를 들을 수 있는 한국은행 화폐박물관 가보기       여행\n",
       "freq                                      2     3020"
      ]
     },
     "execution_count": 62,
     "metadata": {},
     "output_type": "execute_result"
    }
   ],
   "source": [
    "new_df.describe()"
   ]
  },
  {
   "cell_type": "code",
   "execution_count": 63,
   "id": "3eb4c0d7",
   "metadata": {},
   "outputs": [
    {
     "data": {
      "text/html": [
       "<div>\n",
       "<style scoped>\n",
       "    .dataframe tbody tr th:only-of-type {\n",
       "        vertical-align: middle;\n",
       "    }\n",
       "\n",
       "    .dataframe tbody tr th {\n",
       "        vertical-align: top;\n",
       "    }\n",
       "\n",
       "    .dataframe thead th {\n",
       "        text-align: right;\n",
       "    }\n",
       "</style>\n",
       "<table border=\"1\" class=\"dataframe\">\n",
       "  <thead>\n",
       "    <tr style=\"text-align: right;\">\n",
       "      <th></th>\n",
       "      <th>title</th>\n",
       "      <th>category</th>\n",
       "    </tr>\n",
       "  </thead>\n",
       "  <tbody>\n",
       "    <tr>\n",
       "      <th>0</th>\n",
       "      <td>러시아의 북극해 소도시, 'Teriberka'에서 오로라 관측하기</td>\n",
       "      <td>대자연</td>\n",
       "    </tr>\n",
       "    <tr>\n",
       "      <th>1</th>\n",
       "      <td>지구의 모래 지평선, '사하라 사막'에서 별 사진 찍기</td>\n",
       "      <td>대자연</td>\n",
       "    </tr>\n",
       "    <tr>\n",
       "      <th>2</th>\n",
       "      <td>알프스 산맥 고속 열차, 'Glacier Express'에서 스위스 풍경 감상하기</td>\n",
       "      <td>대자연</td>\n",
       "    </tr>\n",
       "    <tr>\n",
       "      <th>3</th>\n",
       "      <td>알프스산맥의 상징, '마터호른' 감상하기</td>\n",
       "      <td>대자연</td>\n",
       "    </tr>\n",
       "    <tr>\n",
       "      <th>4</th>\n",
       "      <td>원주민 마을의 자연 절경, '하바슈 폭포' 감상하기</td>\n",
       "      <td>대자연</td>\n",
       "    </tr>\n",
       "    <tr>\n",
       "      <th>...</th>\n",
       "      <td>...</td>\n",
       "      <td>...</td>\n",
       "    </tr>\n",
       "    <tr>\n",
       "      <th>9432</th>\n",
       "      <td>수천 년 역사의 태평양 섬, '하와이'에서 우쿨렐레 배우기</td>\n",
       "      <td>자기계발</td>\n",
       "    </tr>\n",
       "    <tr>\n",
       "      <th>9433</th>\n",
       "      <td>향기를 공부하는 학교, '이집카'에서 조향사 교육받기</td>\n",
       "      <td>자기계발</td>\n",
       "    </tr>\n",
       "    <tr>\n",
       "      <th>9434</th>\n",
       "      <td>스페셜티 커피협회에서 커피 세계 배우기</td>\n",
       "      <td>자기계발</td>\n",
       "    </tr>\n",
       "    <tr>\n",
       "      <th>9435</th>\n",
       "      <td>초콜릿 장인의 요리 학교에서 디저트 만들어보기</td>\n",
       "      <td>자기계발</td>\n",
       "    </tr>\n",
       "    <tr>\n",
       "      <th>9436</th>\n",
       "      <td>손끝으로 새긴 나만의 패턴, '자수하는으녕씨'에서 프랑스 자수 체험하기</td>\n",
       "      <td>자기계발</td>\n",
       "    </tr>\n",
       "  </tbody>\n",
       "</table>\n",
       "<p>9437 rows × 2 columns</p>\n",
       "</div>"
      ],
      "text/plain": [
       "                                              title category\n",
       "0              러시아의 북극해 소도시, 'Teriberka'에서 오로라 관측하기      대자연\n",
       "1                    지구의 모래 지평선, '사하라 사막'에서 별 사진 찍기      대자연\n",
       "2     알프스 산맥 고속 열차, 'Glacier Express'에서 스위스 풍경 감상하기      대자연\n",
       "3                            알프스산맥의 상징, '마터호른' 감상하기      대자연\n",
       "4                      원주민 마을의 자연 절경, '하바슈 폭포' 감상하기      대자연\n",
       "...                                             ...      ...\n",
       "9432               수천 년 역사의 태평양 섬, '하와이'에서 우쿨렐레 배우기     자기계발\n",
       "9433                  향기를 공부하는 학교, '이집카'에서 조향사 교육받기     자기계발\n",
       "9434                          스페셜티 커피협회에서 커피 세계 배우기     자기계발\n",
       "9435                      초콜릿 장인의 요리 학교에서 디저트 만들어보기     자기계발\n",
       "9436        손끝으로 새긴 나만의 패턴, '자수하는으녕씨'에서 프랑스 자수 체험하기     자기계발\n",
       "\n",
       "[9437 rows x 2 columns]"
      ]
     },
     "execution_count": 63,
     "metadata": {},
     "output_type": "execute_result"
    }
   ],
   "source": [
    "new_df.drop_duplicates()"
   ]
  },
  {
   "cell_type": "code",
   "execution_count": 64,
   "id": "f50aa5b6",
   "metadata": {},
   "outputs": [],
   "source": [
    "groups = df.groupby(df['category'])"
   ]
  },
  {
   "cell_type": "code",
   "execution_count": 65,
   "id": "7e474a62",
   "metadata": {},
   "outputs": [
    {
     "data": {
      "text/plain": [
       "category\n",
       "대자연      874\n",
       "문화예술    2436\n",
       "쇼핑       266\n",
       "스포츠      124\n",
       "아웃도어    1136\n",
       "여행      3020\n",
       "일상      1011\n",
       "자기계발      93\n",
       "푸드       477\n",
       "dtype: int64"
      ]
     },
     "execution_count": 65,
     "metadata": {},
     "output_type": "execute_result"
    }
   ],
   "source": [
    "groups.size()"
   ]
  },
  {
   "cell_type": "code",
   "execution_count": null,
   "id": "f4af909b",
   "metadata": {},
   "outputs": [],
   "source": []
  }
 ],
 "metadata": {
  "kernelspec": {
   "display_name": "Python 3 (ipykernel)",
   "language": "python",
   "name": "python3"
  },
  "language_info": {
   "codemirror_mode": {
    "name": "ipython",
    "version": 3
   },
   "file_extension": ".py",
   "mimetype": "text/x-python",
   "name": "python",
   "nbconvert_exporter": "python",
   "pygments_lexer": "ipython3",
   "version": "3.9.13"
  }
 },
 "nbformat": 4,
 "nbformat_minor": 5
}
